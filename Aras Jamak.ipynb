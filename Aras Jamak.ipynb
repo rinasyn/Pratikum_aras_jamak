{
 "cells": [
  {
   "cell_type": "markdown",
   "id": "4043d757",
   "metadata": {},
   "source": [
    "## Import Library "
   ]
  },
  {
   "cell_type": "code",
   "execution_count": 1,
   "id": "c8ecc884",
   "metadata": {},
   "outputs": [],
   "source": [
    "import cv2\n",
    "import numpy as np\n",
    "from matplotlib import pyplot as ply"
   ]
  },
  {
   "cell_type": "code",
   "execution_count": 5,
   "id": "84511015",
   "metadata": {},
   "outputs": [],
   "source": [
    "daun = cv2.imread(\"daun.jpg\",0)\n",
    "tinggi, lebar = daun.shape"
   ]
  },
  {
   "cell_type": "code",
   "execution_count": 6,
   "id": "01a7ea00",
   "metadata": {},
   "outputs": [
    {
     "data": {
      "text/plain": [
       "<function destroyAllWindows>"
      ]
     },
     "execution_count": 6,
     "metadata": {},
     "output_type": "execute_result"
    }
   ],
   "source": [
    "cv2.imshow(\"Gambar asli\", daun)\n",
    "cv2.waitKey(0)\n",
    "cv2.destroyAllWindows"
   ]
  },
  {
   "cell_type": "markdown",
   "id": "2e224236",
   "metadata": {},
   "source": [
    "## Konversi RGB To HLS"
   ]
  },
  {
   "cell_type": "code",
   "execution_count": 8,
   "id": "3b1fe3e8",
   "metadata": {},
   "outputs": [],
   "source": [
    "daun = cv2.imread(\"daun.jpg\")\n",
    "daun_hls = cv2.cvtColor(daun, cv2.COLOR_BGR2HLS)\n",
    "tinggi, lebar = daun.shape[:2]"
   ]
  },
  {
   "cell_type": "code",
   "execution_count": 10,
   "id": "a8c7db19",
   "metadata": {},
   "outputs": [],
   "source": [
    "for x in range(tinggi):\n",
    "\n",
    "    for y in range(lebar):\n",
    "\n",
    "        h, l, s = daun_hls[x, y]\n",
    "\n",
    "\n",
    "        if h < 11 :\n",
    "\n",
    "            h = 0\n",
    "\n",
    "        elif h < 32 :\n",
    "\n",
    "            h = 21\n",
    "\n",
    "        elif h < 54 :\n",
    "\n",
    "            h = 43;\n",
    "\n",
    "        elif h < 116 :\n",
    "\n",
    "            h = 85;\n",
    "\n",
    "        elif h < 141 :\n",
    "\n",
    "            h = 128;\n",
    "\n",
    "        elif h < 185 :\n",
    "\n",
    "            h = 170;\n",
    "\n",
    "        elif h < 202 :\n",
    "\n",
    "            h = 191;\n",
    "\n",
    "        elif h < 223 :\n",
    "\n",
    "            h = 213;\n",
    "\n",
    "        elif h < 244 :\n",
    "\n",
    "            h = 234;\n",
    "\n",
    "        else :\n",
    "\n",
    "            h = 0;\n",
    "\n",
    "\n",
    "        daun_hls[x,y][0] = h\n",
    "\n",
    " \n",
    "\n",
    "        if s >= 200 :\n",
    "\n",
    "            daun_hls[x,y][2] = 255\n",
    "\n",
    "        elif s <= 20 :\n",
    "\n",
    "            daun_hls[x,y][2] = 0\n",
    "\n",
    "        else :\n",
    "\n",
    "            daun_hls[x,y][2] = 128\n",
    "\n",
    "\n",
    "        if l >= 200 :\n",
    "\n",
    "            daun_hls[x,y][1] = 255;\n",
    "\n",
    "        elif l <= 20 :\n",
    "\n",
    "            daun_hls[x,y][1] = 0;\n",
    "\n",
    "        else :\n",
    "\n",
    "            daun_hls[x,y][1] = 128;\n",
    "\n",
    " \n",
    "\n",
    "daun_res = cv2.cvtColor(daun_hls, cv2.COLOR_HLS2BGR)"
   ]
  },
  {
   "cell_type": "code",
   "execution_count": 11,
   "id": "ad61908b",
   "metadata": {},
   "outputs": [
    {
     "data": {
      "text/plain": [
       "<function destroyAllWindows>"
      ]
     },
     "execution_count": 11,
     "metadata": {},
     "output_type": "execute_result"
    }
   ],
   "source": [
    "cv2.imshow(\"Daun HLS\", daun_res)\n",
    "cv2.waitKey(0)\n",
    "cv2.destroyAllWindows"
   ]
  },
  {
   "cell_type": "code",
   "execution_count": null,
   "id": "20d91cea",
   "metadata": {},
   "outputs": [],
   "source": []
  }
 ],
 "metadata": {
  "kernelspec": {
   "display_name": "Python 3 (ipykernel)",
   "language": "python",
   "name": "python3"
  },
  "language_info": {
   "codemirror_mode": {
    "name": "ipython",
    "version": 3
   },
   "file_extension": ".py",
   "mimetype": "text/x-python",
   "name": "python",
   "nbconvert_exporter": "python",
   "pygments_lexer": "ipython3",
   "version": "3.9.13"
  }
 },
 "nbformat": 4,
 "nbformat_minor": 5
}
